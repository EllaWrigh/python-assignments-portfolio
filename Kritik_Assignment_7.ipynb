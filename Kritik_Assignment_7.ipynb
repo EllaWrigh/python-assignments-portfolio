{
 "cells": [
  {
   "cell_type": "code",
   "execution_count": 8,
   "id": "da208d10-0866-43da-9129-18865d77e990",
   "metadata": {},
   "outputs": [],
   "source": [
    "import numpy as np\n",
    "import math\n",
    "from scipy.special import gamma\n",
    "def t_distribution_pdf(x, nu):\n",
    "\n",
    "    coeff = gamma((nu + 1) / 2) / (np.sqrt(nu * np.pi) * gamma(nu / 2))\n",
    "    density = coeff * (1 + x**2 / nu) ** (-0.5 * (nu + 1))\n",
    "    return density"
   ]
  },
  {
   "cell_type": "code",
   "execution_count": 42,
   "id": "68ba9dcd-7613-4bae-926b-82facb7c3861",
   "metadata": {},
   "outputs": [
    {
     "name": "stdout",
     "output_type": "stream",
     "text": [
      "The mean value is 82.382\n",
      "the standar deciation value is 10.193467189005581\n",
      "the value of t0 is 25.324361688561847\n"
     ]
    }
   ],
   "source": [
    "Student_Scores = [92.64,79.00,84.79,97.41,93.68,65.23,84.50,73.49,73.97,79.11]\n",
    "\n",
    "#First Lets Find the Mean of the Students Scores\n",
    "#We know that the mean = all the numbers in the list added togther and then divided by the length of the list\n",
    "Sum = 0\n",
    "\n",
    "Uo = 0.75\n",
    "\n",
    "Mean = sum(Student_Scores)/len(Student_Scores)\n",
    "print(\"The mean value is\", Mean)\n",
    "n = len(Student_Scores)\n",
    "#Now lets find the standard deviation\n",
    "#We can do this by inputing the equation given\n",
    "\n",
    "\n",
    "def strd_dev():\n",
    "    Sum = 0\n",
    "    for x in Student_Scores:\n",
    "        Sum = Sum + (x - Mean)**2 #this adds the previous value from the list to the new one\n",
    "    Strd_Dev = math.sqrt(Sum/(n-1)) #This takes the sum value given and completes the strd deviation calculation\n",
    "    return Strd_Dev\n",
    "\n",
    "X =strd_dev()\n",
    "print(\"the standar deciation value is\", X)\n",
    "\n",
    "#next lets find t0\n",
    "\n",
    "def T0():\n",
    "    to = (Mean - Uo)/(X/math.sqrt(n))\n",
    "    return to\n",
    "\n",
    "t0 = T0()\n",
    "print(\"the value of t0 is\", t0)\n",
    "\n",
    "\n",
    "\n"
   ]
  },
  {
   "cell_type": "code",
   "execution_count": 43,
   "id": "a197fbd5-d29e-4b3b-8aca-8ec03c92645d",
   "metadata": {},
   "outputs": [
    {
     "name": "stdout",
     "output_type": "stream",
     "text": [
      "the value of t* is 2.2522252225222523\n"
     ]
    }
   ],
   "source": [
    "#Here is the code given to us by Greg\n",
    "def find_t_star(prob = 0.95, nu = 9, x_start=0, x_end=20, num_points=10000):\n",
    "\n",
    "# Define the x values\n",
    "    x = np.linspace(x_start, x_end, num_points)\n",
    "# Apply the density function to the x values\n",
    "    y = t_distribution_pdf(x, nu)\n",
    "# This next line is the integration (exercise: why does this work?)\n",
    "    cdf = np.cumsum(y) * (x[1] - x[0])\n",
    "# Find the t-value where the cumulative probability reaches half of the\n",
    "    #required probability\n",
    "    target_half_prob = prob / 2\n",
    "    index = np.where(cdf >= target_half_prob)[0][0]\n",
    "    return x[index]\n",
    "\n",
    "#Now we need to run our values through it\n",
    "# we know n equals the length of our list so lets make a function to compute t*\n",
    "\n",
    "t_star = find_t_star(prob = 0.95, nu = 9, x_start=0, x_end=20, num_points=10000)\n",
    "print(\"the value of t* is\", t_star)\n",
    "\n",
    "\n"
   ]
  },
  {
   "cell_type": "code",
   "execution_count": 50,
   "id": "bac94b66-aea0-4d12-8f0f-115a6495011c",
   "metadata": {},
   "outputs": [
    {
     "name": "stdout",
     "output_type": "stream",
     "text": [
      "False\n"
     ]
    }
   ],
   "source": [
    "#Finally lets check to see if t0 falls within t* (which from looking at the outputs above it should not)\n",
    "\n",
    "if -t_star <= t0 <= t_star: #check if t0 is within the range\n",
    "    print(\"True\")\n",
    "\n",
    "else:\n",
    "    print(\"False\") \n",
    "    "
   ]
  },
  {
   "cell_type": "code",
   "execution_count": null,
   "id": "687cefe9-2315-4783-ac96-b55552de5c71",
   "metadata": {},
   "outputs": [],
   "source": [
    "# Explanation\n",
    "\n",
    "# Based on what is observed above it is very unlikely that the test scores match those of the national average after implimenting the new teaching technique\n",
    "# and instead increase as teh value fo t0 > t*"
   ]
  }
 ],
 "metadata": {
  "kernelspec": {
   "display_name": "Python 3 (ipykernel)",
   "language": "python",
   "name": "python3"
  },
  "language_info": {
   "codemirror_mode": {
    "name": "ipython",
    "version": 3
   },
   "file_extension": ".py",
   "mimetype": "text/x-python",
   "name": "python",
   "nbconvert_exporter": "python",
   "pygments_lexer": "ipython3",
   "version": "3.11.4"
  }
 },
 "nbformat": 4,
 "nbformat_minor": 5
}
