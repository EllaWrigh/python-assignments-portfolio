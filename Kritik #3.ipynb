{
 "cells": [
  {
   "cell_type": "code",
   "execution_count": 1,
   "id": "8022acd2-2980-4b2b-a600-c5161b2c6d0e",
   "metadata": {},
   "outputs": [
    {
     "name": "stdout",
     "output_type": "stream",
     "text": [
      "0.999\n",
      "1.001\n"
     ]
    }
   ],
   "source": [
    "def f(x):\n",
    "    return x**2\n",
    "\n",
    "c=1\n",
    "E=0.1\n",
    "delx=10**(-8)\n",
    "x1=c\n",
    "x2=c\n",
    "d=0.001 # if there is too large a step\n",
    "\n",
    "def fPrime(x):\n",
    "    return (f(x+delx)-f(x-delx))/(2*delx)\n",
    "\n",
    "def L(x):\n",
    "    return f(c) + fPrime(x)*(x-c)\n",
    "\n",
    "for i in range(100):\n",
    "    x1 = x1 -d\n",
    "    if abs(f(x1)-L(x1))<=E:\n",
    "        print(x1)\n",
    "        break\n",
    "\n",
    "else:\n",
    "    print(\"No x1 and x2 found within a reasonable range\")\n",
    "\n",
    "for i in range(100):\n",
    "    x2 = x2 + d\n",
    "    if abs(f(x2)-L(x2))<=E:\n",
    "        print(x2)\n",
    "        break\n",
    "\n",
    "else:\n",
    "    print(\"No x1 and x2 found within a reasonable range\")\n",
    "\n",
    "    "
   ]
  },
  {
   "cell_type": "code",
   "execution_count": 2,
   "id": "478a8466-36c9-4d9a-b321-f6b030bae925",
   "metadata": {},
   "outputs": [
    {
     "name": "stdout",
     "output_type": "stream",
     "text": [
      "-0.001\n",
      "0.001\n"
     ]
    }
   ],
   "source": [
    "import math\n",
    "\n",
    "def f(x):\n",
    "    return math.exp(x)\n",
    "\n",
    "c=0\n",
    "E=0.01\n",
    "delx=10**(-8)\n",
    "x1=c\n",
    "x2=c\n",
    "d=0.001 # if there is too large a step\n",
    "\n",
    "def fPrime(x):\n",
    "    return (f(x+delx)-f(x-delx))/(2*delx)\n",
    "\n",
    "def L(x):\n",
    "    return f(c) + fPrime(x)*(x-c)\n",
    "\n",
    "for i in range(100):\n",
    "    x1 = x1 -d\n",
    "    if abs(f(x1)-L(x1))<=E:\n",
    "        print(x1)\n",
    "        break\n",
    "\n",
    "else:\n",
    "    print(\"No x1 and x2 found within a reasonable range\")\n",
    "\n",
    "for i in range(100):\n",
    "    x2 = x2 + d\n",
    "    if abs(f(x2)-L(x2))<=E:\n",
    "        print(x2)\n",
    "        break\n",
    "\n",
    "else:\n",
    "    print(\"No x1 and x2 found within a reasonable range\")\n"
   ]
  },
  {
   "cell_type": "code",
   "execution_count": null,
   "id": "1d6e3d05-ef08-43ce-b16d-863cfb7fa96a",
   "metadata": {},
   "outputs": [],
   "source": []
  }
 ],
 "metadata": {
  "kernelspec": {
   "display_name": "Python 3 (ipykernel)",
   "language": "python",
   "name": "python3"
  },
  "language_info": {
   "codemirror_mode": {
    "name": "ipython",
    "version": 3
   },
   "file_extension": ".py",
   "mimetype": "text/x-python",
   "name": "python",
   "nbconvert_exporter": "python",
   "pygments_lexer": "ipython3",
   "version": "3.11.4"
  }
 },
 "nbformat": 4,
 "nbformat_minor": 5
}
