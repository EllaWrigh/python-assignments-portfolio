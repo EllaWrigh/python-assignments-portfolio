{
 "cells": [
  {
   "cell_type": "code",
   "execution_count": 1,
   "id": "5a92a6e5-a50e-4336-beba-bbd36a20b138",
   "metadata": {},
   "outputs": [],
   "source": [
    "def function(x):\n",
    "    n=0\n",
    "    s=0\n",
    "    error_bound = (x**(2*n+1))/(2*n+1)\n",
    "    if 0<=x<=1:\n",
    "        while error_bound>= 0.0001:\n",
    "            n+=1\n",
    "            error_bound = (x**(2*n+1))/(2*n+1)\n",
    "\n",
    "        for i in range(0,n-1):\n",
    "            s+= ((-1)**i*x**(2*i+1))/(2*i+1)\n",
    "\n",
    "        power_n = 2*n+1\n",
    "\n",
    "        return(s, power_n, error_bound)\n",
    "\n",
    "    else: \n",
    "        print(\"error\")\n",
    "\n",
    "    "
   ]
  },
  {
   "cell_type": "code",
   "execution_count": 2,
   "id": "9f8c9867-0d1c-4e4b-bcdd-45d32747e036",
   "metadata": {},
   "outputs": [
    {
     "data": {
      "text/plain": [
       "(0.7854481733989479, 10001, 9.999000099990002e-05)"
      ]
     },
     "execution_count": 2,
     "metadata": {},
     "output_type": "execute_result"
    }
   ],
   "source": [
    "function(1)"
   ]
  },
  {
   "cell_type": "code",
   "execution_count": 3,
   "id": "5bd720fa-deb3-4222-a0ca-1b9c55c82209",
   "metadata": {},
   "outputs": [
    {
     "data": {
      "text/plain": [
       "(0, 1, 0.0)"
      ]
     },
     "execution_count": 3,
     "metadata": {},
     "output_type": "execute_result"
    }
   ],
   "source": [
    "function(0)"
   ]
  },
  {
   "cell_type": "code",
   "execution_count": 4,
   "id": "d9ce2f55-4423-4cc5-a8fa-ebd2d2972fca",
   "metadata": {},
   "outputs": [
    {
     "data": {
      "text/plain": [
       "(0.46346726190476184, 11, 4.438920454545455e-05)"
      ]
     },
     "execution_count": 4,
     "metadata": {},
     "output_type": "execute_result"
    }
   ],
   "source": [
    "function(0.5)"
   ]
  },
  {
   "cell_type": "code",
   "execution_count": null,
   "id": "2964143e-36af-4175-a1ef-1fcc8d3fb823",
   "metadata": {},
   "outputs": [],
   "source": []
  }
 ],
 "metadata": {
  "kernelspec": {
   "display_name": "Python 3 (ipykernel)",
   "language": "python",
   "name": "python3"
  },
  "language_info": {
   "codemirror_mode": {
    "name": "ipython",
    "version": 3
   },
   "file_extension": ".py",
   "mimetype": "text/x-python",
   "name": "python",
   "nbconvert_exporter": "python",
   "pygments_lexer": "ipython3",
   "version": "3.11.4"
  }
 },
 "nbformat": 4,
 "nbformat_minor": 5
}
