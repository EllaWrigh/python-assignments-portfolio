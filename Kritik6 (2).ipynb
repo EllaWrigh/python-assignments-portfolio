{
 "cells": [
  {
   "cell_type": "code",
   "execution_count": 6,
   "id": "a1c5db9a-ee38-413d-8e4e-d750fdbe7f2d",
   "metadata": {},
   "outputs": [
    {
     "name": "stdout",
     "output_type": "stream",
     "text": [
      "The likelihood of a mans height to be between 162 and 190 cm is 0.8970761288696666 or 89.70761288696666 %\n"
     ]
    }
   ],
   "source": [
    "import numpy as np\n",
    "import math\n",
    "\n",
    "def normal_density(mean, variance, x):\n",
    "    function = (1/(np.sqrt(2*np.pi*variance)))*np.exp((-(x-mean)**2/(2*variance)))\n",
    "    return function\n",
    "\n",
    "def integration(mean, variance, a, b):\n",
    "    right_bound = [] # To create a list of y endpoints on the right bound after each delta x subinterval\n",
    "    steps = 100 # will separate the area (integral) into 100 rectangles to approximate the overall area under the curve\n",
    "    delta_x = (b - a) / steps # the same equation we use to find delta x with Riemann sums\n",
    "\n",
    "    for i in range(steps):\n",
    "        xR = a + i*delta_x #this is because our x coordinate will move to the right by delta_x length from our strat point (a) after each step (i)\n",
    "        yR = normal_density(mean, variance, xR) #This is the f(x) or y vale of the normal density function after each step\n",
    "        right_bound.append(yR) #adds each y value to list\n",
    "    Right_sum = sum(right_bound) * delta_x #this step allows us to calculate the area simillar to Riemann Sums\n",
    "    print(\"The likelihood of a mans height to be between 162 and 190 cm is\", Right_sum, \"or\", Right_sum*100,\"%\")\n",
    "\n",
    "integration(mean=171, variance=7.1**2, a=162, b=190)\n"
   ]
  }
 ],
 "metadata": {
  "kernelspec": {
   "display_name": "Python 3 (ipykernel)",
   "language": "python",
   "name": "python3"
  },
  "language_info": {
   "codemirror_mode": {
    "name": "ipython",
    "version": 3
   },
   "file_extension": ".py",
   "mimetype": "text/x-python",
   "name": "python",
   "nbconvert_exporter": "python",
   "pygments_lexer": "ipython3",
   "version": "3.11.4"
  }
 },
 "nbformat": 4,
 "nbformat_minor": 5
}
