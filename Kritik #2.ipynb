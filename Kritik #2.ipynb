{
 "cells": [
  {
   "cell_type": "code",
   "execution_count": 2,
   "id": "ddf7b55f-d6e6-4bbc-b233-747bc07937cf",
   "metadata": {},
   "outputs": [
    {
     "name": "stdout",
     "output_type": "stream",
     "text": [
      "3.141592654399574\n"
     ]
    }
   ],
   "source": [
    "import math\n",
    "import numpy as np\n",
    "\n",
    "a = 3\n",
    "b = 4\n",
    "e = 1e-9\n",
    "\n",
    "def f(x):\n",
    "    function = math.sin(x)/math.log(x)\n",
    "    return function\n",
    "\n",
    "def Function(f, a, b, e):\n",
    "\n",
    "    if f(a) * f(b) >= 0:\n",
    "        print(\"More than one or zero rooots present in given interval\")\n",
    "\n",
    "    while (b-a)/2>e:\n",
    "        M = (a + b)/2\n",
    "\n",
    "        if f(M) == 0:\n",
    "            return round (M, 10)\n",
    "\n",
    "        elif f(a)*f(M)<0:\n",
    "            b = M\n",
    "\n",
    "        else:\n",
    "            a = M\n",
    "\n",
    "    return (a+b)/2\n",
    "\n",
    "answer = Function(f, a, b, e)\n",
    "print(answer)"
   ]
  },
  {
   "cell_type": "code",
   "execution_count": 3,
   "id": "9169049f-f49c-4c6b-aaf4-a72562b85f9c",
   "metadata": {},
   "outputs": [
    {
     "ename": "ZeroDivisionError",
     "evalue": "float division by zero",
     "output_type": "error",
     "traceback": [
      "\u001b[0;31m---------------------------------------------------------------------------\u001b[0m",
      "\u001b[0;31mZeroDivisionError\u001b[0m                         Traceback (most recent call last)",
      "Cell \u001b[0;32mIn[3], line 31\u001b[0m\n\u001b[1;32m     27\u001b[0m             a \u001b[38;5;241m=\u001b[39m M\n\u001b[1;32m     29\u001b[0m     \u001b[38;5;28;01mreturn\u001b[39;00m (a\u001b[38;5;241m+\u001b[39mb)\u001b[38;5;241m/\u001b[39m\u001b[38;5;241m2\u001b[39m\n\u001b[0;32m---> 31\u001b[0m answer \u001b[38;5;241m=\u001b[39m \u001b[43mFunction\u001b[49m\u001b[43m(\u001b[49m\u001b[43mf\u001b[49m\u001b[43m,\u001b[49m\u001b[43m \u001b[49m\u001b[43ma\u001b[49m\u001b[43m,\u001b[49m\u001b[43m \u001b[49m\u001b[43mb\u001b[49m\u001b[43m,\u001b[49m\u001b[43m \u001b[49m\u001b[43me\u001b[49m\u001b[43m)\u001b[49m\n\u001b[1;32m     32\u001b[0m \u001b[38;5;28mprint\u001b[39m(answer)\n",
      "Cell \u001b[0;32mIn[3], line 14\u001b[0m, in \u001b[0;36mFunction\u001b[0;34m(f, a, b, e)\u001b[0m\n\u001b[1;32m     12\u001b[0m \u001b[38;5;28;01mdef\u001b[39;00m \u001b[38;5;21mFunction\u001b[39m(f, a, b, e):\n\u001b[0;32m---> 14\u001b[0m     \u001b[38;5;28;01mif\u001b[39;00m f(a) \u001b[38;5;241m*\u001b[39m \u001b[43mf\u001b[49m\u001b[43m(\u001b[49m\u001b[43mb\u001b[49m\u001b[43m)\u001b[49m \u001b[38;5;241m>\u001b[39m\u001b[38;5;241m=\u001b[39m \u001b[38;5;241m0\u001b[39m:\n\u001b[1;32m     15\u001b[0m         \u001b[38;5;28mprint\u001b[39m(\u001b[38;5;124m\"\u001b[39m\u001b[38;5;124mMore than one or zero rooots present in given interval\u001b[39m\u001b[38;5;124m\"\u001b[39m)\n\u001b[1;32m     17\u001b[0m     \u001b[38;5;28;01mwhile\u001b[39;00m (b\u001b[38;5;241m-\u001b[39ma)\u001b[38;5;241m/\u001b[39m\u001b[38;5;241m2\u001b[39m\u001b[38;5;241m>\u001b[39me:\n",
      "Cell \u001b[0;32mIn[3], line 9\u001b[0m, in \u001b[0;36mf\u001b[0;34m(x)\u001b[0m\n\u001b[1;32m      8\u001b[0m \u001b[38;5;28;01mdef\u001b[39;00m \u001b[38;5;21mf\u001b[39m(x):\n\u001b[0;32m----> 9\u001b[0m     function \u001b[38;5;241m=\u001b[39m \u001b[43mmath\u001b[49m\u001b[38;5;241;43m.\u001b[39;49m\u001b[43msin\u001b[49m\u001b[43m(\u001b[49m\u001b[43mx\u001b[49m\u001b[43m)\u001b[49m\u001b[38;5;241;43m/\u001b[39;49m\u001b[43mmath\u001b[49m\u001b[38;5;241;43m.\u001b[39;49m\u001b[43mlog\u001b[49m\u001b[43m(\u001b[49m\u001b[43mx\u001b[49m\u001b[43m)\u001b[49m\n\u001b[1;32m     10\u001b[0m     \u001b[38;5;28;01mreturn\u001b[39;00m function\n",
      "\u001b[0;31mZeroDivisionError\u001b[0m: float division by zero"
     ]
    }
   ],
   "source": [
    "import math\n",
    "import numpy as np\n",
    "\n",
    "a = 0.00001\n",
    "b = 1\n",
    "e = 1e-9\n",
    "\n",
    "def f(x):\n",
    "    function = math.sin(x)/math.log(x)\n",
    "    return function\n",
    "\n",
    "def Function(f, a, b, e):\n",
    "\n",
    "    if f(a) * f(b) >= 0:\n",
    "        print(\"More than one or zero rooots present in given interval\")\n",
    "\n",
    "    while (b-a)/2>e:\n",
    "        M = (a + b)/2\n",
    "\n",
    "        if f(M) == 0:\n",
    "            return round (M, 10)\n",
    "\n",
    "        elif f(a)*f(M)<0:\n",
    "            b = M\n",
    "\n",
    "        else:\n",
    "            a = M\n",
    "\n",
    "    return (a+b)/2\n",
    "\n",
    "answer = Function(f, a, b, e)\n",
    "print(answer)"
   ]
  },
  {
   "cell_type": "code",
   "execution_count": null,
   "id": "91229946-4db7-4484-9fdf-f905aed82069",
   "metadata": {},
   "outputs": [],
   "source": []
  }
 ],
 "metadata": {
  "kernelspec": {
   "display_name": "Python 3 (ipykernel)",
   "language": "python",
   "name": "python3"
  },
  "language_info": {
   "codemirror_mode": {
    "name": "ipython",
    "version": 3
   },
   "file_extension": ".py",
   "mimetype": "text/x-python",
   "name": "python",
   "nbconvert_exporter": "python",
   "pygments_lexer": "ipython3",
   "version": "3.11.4"
  }
 },
 "nbformat": 4,
 "nbformat_minor": 5
}
